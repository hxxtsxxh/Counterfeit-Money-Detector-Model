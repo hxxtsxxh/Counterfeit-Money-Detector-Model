{
  "nbformat": 4,
  "nbformat_minor": 0,
  "metadata": {
    "colab": {
      "provenance": []
    },
    "kernelspec": {
      "name": "python3",
      "display_name": "Python 3"
    },
    "language_info": {
      "name": "python"
    }
  },
  "cells": [
    {
      "cell_type": "markdown",
      "source": [
        "*The \"banknotes.csv\" dataset is from kaggle.com*"
      ],
      "metadata": {
        "id": "vyweBZ_gPT5M"
      }
    },
    {
      "cell_type": "markdown",
      "source": [
        "# Import Necessary Libraries"
      ],
      "metadata": {
        "id": "ik2YHDPANAPZ"
      }
    },
    {
      "cell_type": "code",
      "source": [
        "import tensorflow as tf\n",
        "import pandas as pd\n",
        "from sklearn.model_selection import train_test_split\n",
        "from sklearn.preprocessing import StandardScaler"
      ],
      "metadata": {
        "id": "dOX59vbuR483"
      },
      "execution_count": 33,
      "outputs": []
    },
    {
      "cell_type": "markdown",
      "source": [
        "# Loading the Data"
      ],
      "metadata": {
        "id": "rVrSr53bUU_p"
      }
    },
    {
      "cell_type": "code",
      "source": [
        "df = pd.read_csv(\"banknotes.csv\")\n",
        "df.head()"
      ],
      "metadata": {
        "colab": {
          "base_uri": "https://localhost:8080/",
          "height": 206
        },
        "id": "yzT8GjaOTNzs",
        "outputId": "71df00fb-7bc0-4df6-fb03-60ec07c9d05d"
      },
      "execution_count": 34,
      "outputs": [
        {
          "output_type": "execute_result",
          "data": {
            "text/plain": [
              "   conterfeit  Length   Left  Right  Bottom   Top  Diagonal\n",
              "0           0   214.8  131.0  131.1     9.0   9.7     141.0\n",
              "1           0   214.6  129.7  129.7     8.1   9.5     141.7\n",
              "2           0   214.8  129.7  129.7     8.7   9.6     142.2\n",
              "3           0   214.8  129.7  129.6     7.5  10.4     142.0\n",
              "4           0   215.0  129.6  129.7    10.4   7.7     141.8"
            ],
            "text/html": [
              "\n",
              "  <div id=\"df-36d0e6ae-85cb-4b45-8804-f79149f9afd1\">\n",
              "    <div class=\"colab-df-container\">\n",
              "      <div>\n",
              "<style scoped>\n",
              "    .dataframe tbody tr th:only-of-type {\n",
              "        vertical-align: middle;\n",
              "    }\n",
              "\n",
              "    .dataframe tbody tr th {\n",
              "        vertical-align: top;\n",
              "    }\n",
              "\n",
              "    .dataframe thead th {\n",
              "        text-align: right;\n",
              "    }\n",
              "</style>\n",
              "<table border=\"1\" class=\"dataframe\">\n",
              "  <thead>\n",
              "    <tr style=\"text-align: right;\">\n",
              "      <th></th>\n",
              "      <th>conterfeit</th>\n",
              "      <th>Length</th>\n",
              "      <th>Left</th>\n",
              "      <th>Right</th>\n",
              "      <th>Bottom</th>\n",
              "      <th>Top</th>\n",
              "      <th>Diagonal</th>\n",
              "    </tr>\n",
              "  </thead>\n",
              "  <tbody>\n",
              "    <tr>\n",
              "      <th>0</th>\n",
              "      <td>0</td>\n",
              "      <td>214.8</td>\n",
              "      <td>131.0</td>\n",
              "      <td>131.1</td>\n",
              "      <td>9.0</td>\n",
              "      <td>9.7</td>\n",
              "      <td>141.0</td>\n",
              "    </tr>\n",
              "    <tr>\n",
              "      <th>1</th>\n",
              "      <td>0</td>\n",
              "      <td>214.6</td>\n",
              "      <td>129.7</td>\n",
              "      <td>129.7</td>\n",
              "      <td>8.1</td>\n",
              "      <td>9.5</td>\n",
              "      <td>141.7</td>\n",
              "    </tr>\n",
              "    <tr>\n",
              "      <th>2</th>\n",
              "      <td>0</td>\n",
              "      <td>214.8</td>\n",
              "      <td>129.7</td>\n",
              "      <td>129.7</td>\n",
              "      <td>8.7</td>\n",
              "      <td>9.6</td>\n",
              "      <td>142.2</td>\n",
              "    </tr>\n",
              "    <tr>\n",
              "      <th>3</th>\n",
              "      <td>0</td>\n",
              "      <td>214.8</td>\n",
              "      <td>129.7</td>\n",
              "      <td>129.6</td>\n",
              "      <td>7.5</td>\n",
              "      <td>10.4</td>\n",
              "      <td>142.0</td>\n",
              "    </tr>\n",
              "    <tr>\n",
              "      <th>4</th>\n",
              "      <td>0</td>\n",
              "      <td>215.0</td>\n",
              "      <td>129.6</td>\n",
              "      <td>129.7</td>\n",
              "      <td>10.4</td>\n",
              "      <td>7.7</td>\n",
              "      <td>141.8</td>\n",
              "    </tr>\n",
              "  </tbody>\n",
              "</table>\n",
              "</div>\n",
              "      <button class=\"colab-df-convert\" onclick=\"convertToInteractive('df-36d0e6ae-85cb-4b45-8804-f79149f9afd1')\"\n",
              "              title=\"Convert this dataframe to an interactive table.\"\n",
              "              style=\"display:none;\">\n",
              "        \n",
              "  <svg xmlns=\"http://www.w3.org/2000/svg\" height=\"24px\"viewBox=\"0 0 24 24\"\n",
              "       width=\"24px\">\n",
              "    <path d=\"M0 0h24v24H0V0z\" fill=\"none\"/>\n",
              "    <path d=\"M18.56 5.44l.94 2.06.94-2.06 2.06-.94-2.06-.94-.94-2.06-.94 2.06-2.06.94zm-11 1L8.5 8.5l.94-2.06 2.06-.94-2.06-.94L8.5 2.5l-.94 2.06-2.06.94zm10 10l.94 2.06.94-2.06 2.06-.94-2.06-.94-.94-2.06-.94 2.06-2.06.94z\"/><path d=\"M17.41 7.96l-1.37-1.37c-.4-.4-.92-.59-1.43-.59-.52 0-1.04.2-1.43.59L10.3 9.45l-7.72 7.72c-.78.78-.78 2.05 0 2.83L4 21.41c.39.39.9.59 1.41.59.51 0 1.02-.2 1.41-.59l7.78-7.78 2.81-2.81c.8-.78.8-2.07 0-2.86zM5.41 20L4 18.59l7.72-7.72 1.47 1.35L5.41 20z\"/>\n",
              "  </svg>\n",
              "      </button>\n",
              "      \n",
              "  <style>\n",
              "    .colab-df-container {\n",
              "      display:flex;\n",
              "      flex-wrap:wrap;\n",
              "      gap: 12px;\n",
              "    }\n",
              "\n",
              "    .colab-df-convert {\n",
              "      background-color: #E8F0FE;\n",
              "      border: none;\n",
              "      border-radius: 50%;\n",
              "      cursor: pointer;\n",
              "      display: none;\n",
              "      fill: #1967D2;\n",
              "      height: 32px;\n",
              "      padding: 0 0 0 0;\n",
              "      width: 32px;\n",
              "    }\n",
              "\n",
              "    .colab-df-convert:hover {\n",
              "      background-color: #E2EBFA;\n",
              "      box-shadow: 0px 1px 2px rgba(60, 64, 67, 0.3), 0px 1px 3px 1px rgba(60, 64, 67, 0.15);\n",
              "      fill: #174EA6;\n",
              "    }\n",
              "\n",
              "    [theme=dark] .colab-df-convert {\n",
              "      background-color: #3B4455;\n",
              "      fill: #D2E3FC;\n",
              "    }\n",
              "\n",
              "    [theme=dark] .colab-df-convert:hover {\n",
              "      background-color: #434B5C;\n",
              "      box-shadow: 0px 1px 3px 1px rgba(0, 0, 0, 0.15);\n",
              "      filter: drop-shadow(0px 1px 2px rgba(0, 0, 0, 0.3));\n",
              "      fill: #FFFFFF;\n",
              "    }\n",
              "  </style>\n",
              "\n",
              "      <script>\n",
              "        const buttonEl =\n",
              "          document.querySelector('#df-36d0e6ae-85cb-4b45-8804-f79149f9afd1 button.colab-df-convert');\n",
              "        buttonEl.style.display =\n",
              "          google.colab.kernel.accessAllowed ? 'block' : 'none';\n",
              "\n",
              "        async function convertToInteractive(key) {\n",
              "          const element = document.querySelector('#df-36d0e6ae-85cb-4b45-8804-f79149f9afd1');\n",
              "          const dataTable =\n",
              "            await google.colab.kernel.invokeFunction('convertToInteractive',\n",
              "                                                     [key], {});\n",
              "          if (!dataTable) return;\n",
              "\n",
              "          const docLinkHtml = 'Like what you see? Visit the ' +\n",
              "            '<a target=\"_blank\" href=https://colab.research.google.com/notebooks/data_table.ipynb>data table notebook</a>'\n",
              "            + ' to learn more about interactive tables.';\n",
              "          element.innerHTML = '';\n",
              "          dataTable['output_type'] = 'display_data';\n",
              "          await google.colab.output.renderOutput(dataTable, element);\n",
              "          const docLink = document.createElement('div');\n",
              "          docLink.innerHTML = docLinkHtml;\n",
              "          element.appendChild(docLink);\n",
              "        }\n",
              "      </script>\n",
              "    </div>\n",
              "  </div>\n",
              "  "
            ]
          },
          "metadata": {},
          "execution_count": 34
        }
      ]
    },
    {
      "cell_type": "code",
      "source": [
        "df.describe()"
      ],
      "metadata": {
        "colab": {
          "base_uri": "https://localhost:8080/",
          "height": 300
        },
        "id": "jcm8mxgxUgvT",
        "outputId": "9ef1426a-9e2d-4b0b-e645-6f58f4c97277"
      },
      "execution_count": 35,
      "outputs": [
        {
          "output_type": "execute_result",
          "data": {
            "text/plain": [
              "       conterfeit      Length        Left       Right      Bottom         Top  \\\n",
              "count  200.000000  200.000000  200.000000  200.000000  200.000000  200.000000   \n",
              "mean     0.500000  214.896000  130.121500  129.956500    9.417500   10.650500   \n",
              "std      0.501255    0.376554    0.361026    0.404072    1.444603    0.802947   \n",
              "min      0.000000  213.800000  129.000000  129.000000    7.200000    7.700000   \n",
              "25%      0.000000  214.600000  129.900000  129.700000    8.200000   10.100000   \n",
              "50%      0.500000  214.900000  130.200000  130.000000    9.100000   10.600000   \n",
              "75%      1.000000  215.100000  130.400000  130.225000   10.600000   11.200000   \n",
              "max      1.000000  216.300000  131.000000  131.100000   12.700000   12.300000   \n",
              "\n",
              "         Diagonal  \n",
              "count  200.000000  \n",
              "mean   140.483500  \n",
              "std      1.152266  \n",
              "min    137.800000  \n",
              "25%    139.500000  \n",
              "50%    140.450000  \n",
              "75%    141.500000  \n",
              "max    142.400000  "
            ],
            "text/html": [
              "\n",
              "  <div id=\"df-39b08c6e-56f8-4e18-92f0-15d29912ab0b\">\n",
              "    <div class=\"colab-df-container\">\n",
              "      <div>\n",
              "<style scoped>\n",
              "    .dataframe tbody tr th:only-of-type {\n",
              "        vertical-align: middle;\n",
              "    }\n",
              "\n",
              "    .dataframe tbody tr th {\n",
              "        vertical-align: top;\n",
              "    }\n",
              "\n",
              "    .dataframe thead th {\n",
              "        text-align: right;\n",
              "    }\n",
              "</style>\n",
              "<table border=\"1\" class=\"dataframe\">\n",
              "  <thead>\n",
              "    <tr style=\"text-align: right;\">\n",
              "      <th></th>\n",
              "      <th>conterfeit</th>\n",
              "      <th>Length</th>\n",
              "      <th>Left</th>\n",
              "      <th>Right</th>\n",
              "      <th>Bottom</th>\n",
              "      <th>Top</th>\n",
              "      <th>Diagonal</th>\n",
              "    </tr>\n",
              "  </thead>\n",
              "  <tbody>\n",
              "    <tr>\n",
              "      <th>count</th>\n",
              "      <td>200.000000</td>\n",
              "      <td>200.000000</td>\n",
              "      <td>200.000000</td>\n",
              "      <td>200.000000</td>\n",
              "      <td>200.000000</td>\n",
              "      <td>200.000000</td>\n",
              "      <td>200.000000</td>\n",
              "    </tr>\n",
              "    <tr>\n",
              "      <th>mean</th>\n",
              "      <td>0.500000</td>\n",
              "      <td>214.896000</td>\n",
              "      <td>130.121500</td>\n",
              "      <td>129.956500</td>\n",
              "      <td>9.417500</td>\n",
              "      <td>10.650500</td>\n",
              "      <td>140.483500</td>\n",
              "    </tr>\n",
              "    <tr>\n",
              "      <th>std</th>\n",
              "      <td>0.501255</td>\n",
              "      <td>0.376554</td>\n",
              "      <td>0.361026</td>\n",
              "      <td>0.404072</td>\n",
              "      <td>1.444603</td>\n",
              "      <td>0.802947</td>\n",
              "      <td>1.152266</td>\n",
              "    </tr>\n",
              "    <tr>\n",
              "      <th>min</th>\n",
              "      <td>0.000000</td>\n",
              "      <td>213.800000</td>\n",
              "      <td>129.000000</td>\n",
              "      <td>129.000000</td>\n",
              "      <td>7.200000</td>\n",
              "      <td>7.700000</td>\n",
              "      <td>137.800000</td>\n",
              "    </tr>\n",
              "    <tr>\n",
              "      <th>25%</th>\n",
              "      <td>0.000000</td>\n",
              "      <td>214.600000</td>\n",
              "      <td>129.900000</td>\n",
              "      <td>129.700000</td>\n",
              "      <td>8.200000</td>\n",
              "      <td>10.100000</td>\n",
              "      <td>139.500000</td>\n",
              "    </tr>\n",
              "    <tr>\n",
              "      <th>50%</th>\n",
              "      <td>0.500000</td>\n",
              "      <td>214.900000</td>\n",
              "      <td>130.200000</td>\n",
              "      <td>130.000000</td>\n",
              "      <td>9.100000</td>\n",
              "      <td>10.600000</td>\n",
              "      <td>140.450000</td>\n",
              "    </tr>\n",
              "    <tr>\n",
              "      <th>75%</th>\n",
              "      <td>1.000000</td>\n",
              "      <td>215.100000</td>\n",
              "      <td>130.400000</td>\n",
              "      <td>130.225000</td>\n",
              "      <td>10.600000</td>\n",
              "      <td>11.200000</td>\n",
              "      <td>141.500000</td>\n",
              "    </tr>\n",
              "    <tr>\n",
              "      <th>max</th>\n",
              "      <td>1.000000</td>\n",
              "      <td>216.300000</td>\n",
              "      <td>131.000000</td>\n",
              "      <td>131.100000</td>\n",
              "      <td>12.700000</td>\n",
              "      <td>12.300000</td>\n",
              "      <td>142.400000</td>\n",
              "    </tr>\n",
              "  </tbody>\n",
              "</table>\n",
              "</div>\n",
              "      <button class=\"colab-df-convert\" onclick=\"convertToInteractive('df-39b08c6e-56f8-4e18-92f0-15d29912ab0b')\"\n",
              "              title=\"Convert this dataframe to an interactive table.\"\n",
              "              style=\"display:none;\">\n",
              "        \n",
              "  <svg xmlns=\"http://www.w3.org/2000/svg\" height=\"24px\"viewBox=\"0 0 24 24\"\n",
              "       width=\"24px\">\n",
              "    <path d=\"M0 0h24v24H0V0z\" fill=\"none\"/>\n",
              "    <path d=\"M18.56 5.44l.94 2.06.94-2.06 2.06-.94-2.06-.94-.94-2.06-.94 2.06-2.06.94zm-11 1L8.5 8.5l.94-2.06 2.06-.94-2.06-.94L8.5 2.5l-.94 2.06-2.06.94zm10 10l.94 2.06.94-2.06 2.06-.94-2.06-.94-.94-2.06-.94 2.06-2.06.94z\"/><path d=\"M17.41 7.96l-1.37-1.37c-.4-.4-.92-.59-1.43-.59-.52 0-1.04.2-1.43.59L10.3 9.45l-7.72 7.72c-.78.78-.78 2.05 0 2.83L4 21.41c.39.39.9.59 1.41.59.51 0 1.02-.2 1.41-.59l7.78-7.78 2.81-2.81c.8-.78.8-2.07 0-2.86zM5.41 20L4 18.59l7.72-7.72 1.47 1.35L5.41 20z\"/>\n",
              "  </svg>\n",
              "      </button>\n",
              "      \n",
              "  <style>\n",
              "    .colab-df-container {\n",
              "      display:flex;\n",
              "      flex-wrap:wrap;\n",
              "      gap: 12px;\n",
              "    }\n",
              "\n",
              "    .colab-df-convert {\n",
              "      background-color: #E8F0FE;\n",
              "      border: none;\n",
              "      border-radius: 50%;\n",
              "      cursor: pointer;\n",
              "      display: none;\n",
              "      fill: #1967D2;\n",
              "      height: 32px;\n",
              "      padding: 0 0 0 0;\n",
              "      width: 32px;\n",
              "    }\n",
              "\n",
              "    .colab-df-convert:hover {\n",
              "      background-color: #E2EBFA;\n",
              "      box-shadow: 0px 1px 2px rgba(60, 64, 67, 0.3), 0px 1px 3px 1px rgba(60, 64, 67, 0.15);\n",
              "      fill: #174EA6;\n",
              "    }\n",
              "\n",
              "    [theme=dark] .colab-df-convert {\n",
              "      background-color: #3B4455;\n",
              "      fill: #D2E3FC;\n",
              "    }\n",
              "\n",
              "    [theme=dark] .colab-df-convert:hover {\n",
              "      background-color: #434B5C;\n",
              "      box-shadow: 0px 1px 3px 1px rgba(0, 0, 0, 0.15);\n",
              "      filter: drop-shadow(0px 1px 2px rgba(0, 0, 0, 0.3));\n",
              "      fill: #FFFFFF;\n",
              "    }\n",
              "  </style>\n",
              "\n",
              "      <script>\n",
              "        const buttonEl =\n",
              "          document.querySelector('#df-39b08c6e-56f8-4e18-92f0-15d29912ab0b button.colab-df-convert');\n",
              "        buttonEl.style.display =\n",
              "          google.colab.kernel.accessAllowed ? 'block' : 'none';\n",
              "\n",
              "        async function convertToInteractive(key) {\n",
              "          const element = document.querySelector('#df-39b08c6e-56f8-4e18-92f0-15d29912ab0b');\n",
              "          const dataTable =\n",
              "            await google.colab.kernel.invokeFunction('convertToInteractive',\n",
              "                                                     [key], {});\n",
              "          if (!dataTable) return;\n",
              "\n",
              "          const docLinkHtml = 'Like what you see? Visit the ' +\n",
              "            '<a target=\"_blank\" href=https://colab.research.google.com/notebooks/data_table.ipynb>data table notebook</a>'\n",
              "            + ' to learn more about interactive tables.';\n",
              "          element.innerHTML = '';\n",
              "          dataTable['output_type'] = 'display_data';\n",
              "          await google.colab.output.renderOutput(dataTable, element);\n",
              "          const docLink = document.createElement('div');\n",
              "          docLink.innerHTML = docLinkHtml;\n",
              "          element.appendChild(docLink);\n",
              "        }\n",
              "      </script>\n",
              "    </div>\n",
              "  </div>\n",
              "  "
            ]
          },
          "metadata": {},
          "execution_count": 35
        }
      ]
    },
    {
      "cell_type": "code",
      "source": [
        "df.info()"
      ],
      "metadata": {
        "colab": {
          "base_uri": "https://localhost:8080/"
        },
        "id": "yM1PbOM1WkJZ",
        "outputId": "af380957-f01c-472c-ed33-9fa4385724a4"
      },
      "execution_count": 36,
      "outputs": [
        {
          "output_type": "stream",
          "name": "stdout",
          "text": [
            "<class 'pandas.core.frame.DataFrame'>\n",
            "RangeIndex: 200 entries, 0 to 199\n",
            "Data columns (total 7 columns):\n",
            " #   Column      Non-Null Count  Dtype  \n",
            "---  ------      --------------  -----  \n",
            " 0   conterfeit  200 non-null    int64  \n",
            " 1   Length      200 non-null    float64\n",
            " 2   Left        200 non-null    float64\n",
            " 3   Right       200 non-null    float64\n",
            " 4   Bottom      200 non-null    float64\n",
            " 5   Top         200 non-null    float64\n",
            " 6   Diagonal    200 non-null    float64\n",
            "dtypes: float64(6), int64(1)\n",
            "memory usage: 11.1 KB\n"
          ]
        }
      ]
    },
    {
      "cell_type": "markdown",
      "source": [
        "#Predictions\n",
        "> Seperating dataset into training and testing sets"
      ],
      "metadata": {
        "id": "o5PEq980W0vz"
      }
    },
    {
      "cell_type": "code",
      "source": [
        "df = df.reindex(np.random.permutation(df.index))\n",
        "\n",
        "X = df.drop(columns = \"conterfeit\")\n",
        "y = df[\"conterfeit\"]\n",
        "X_train, X_test, y_train, y_test = train_test_split(X,y,test_size=0.2, random_state=0)\n",
        "\n",
        "scaler = StandardScaler()\n",
        "X_train = scaler.fit_transform(X_train)"
      ],
      "metadata": {
        "id": "S5RwTTlsWoxR"
      },
      "execution_count": 37,
      "outputs": []
    },
    {
      "cell_type": "markdown",
      "source": [
        "## Neural Network"
      ],
      "metadata": {
        "id": "bsc524X4aSwC"
      }
    },
    {
      "cell_type": "code",
      "source": [
        "model = tf.keras.Sequential([\n",
        "    tf.keras.layers.Dense(6),\n",
        "    tf.keras.layers.Dense(10),\n",
        "    tf.keras.layers.Dense(10),\n",
        "    tf.keras.layers.Dense(1, activation='sigmoid'),\n",
        "\n",
        "])\n",
        "\n",
        "model.compile(loss='binary_crossentropy', optimizer='adam', metrics=['accuracy'])\n",
        "model.fit(X_train, y_train.values, epochs = 50)"
      ],
      "metadata": {
        "colab": {
          "base_uri": "https://localhost:8080/"
        },
        "id": "7basmP07aUPv",
        "outputId": "cf65bf22-d7b1-4c7c-b084-58940aa5cb79"
      },
      "execution_count": 38,
      "outputs": [
        {
          "output_type": "stream",
          "name": "stdout",
          "text": [
            "Epoch 1/50\n",
            "5/5 [==============================] - 5s 11ms/step - loss: 0.3345 - accuracy: 0.9000\n",
            "Epoch 2/50\n",
            "5/5 [==============================] - 0s 10ms/step - loss: 0.2753 - accuracy: 0.9500\n",
            "Epoch 3/50\n",
            "5/5 [==============================] - 0s 9ms/step - loss: 0.2297 - accuracy: 0.9625\n",
            "Epoch 4/50\n",
            "5/5 [==============================] - 0s 6ms/step - loss: 0.1910 - accuracy: 0.9812\n",
            "Epoch 5/50\n",
            "5/5 [==============================] - 0s 7ms/step - loss: 0.1601 - accuracy: 0.9812\n",
            "Epoch 6/50\n",
            "5/5 [==============================] - 0s 9ms/step - loss: 0.1349 - accuracy: 0.9812\n",
            "Epoch 7/50\n",
            "5/5 [==============================] - 0s 6ms/step - loss: 0.1145 - accuracy: 0.9812\n",
            "Epoch 8/50\n",
            "5/5 [==============================] - 0s 7ms/step - loss: 0.0995 - accuracy: 0.9812\n",
            "Epoch 9/50\n",
            "5/5 [==============================] - 0s 7ms/step - loss: 0.0871 - accuracy: 0.9812\n",
            "Epoch 10/50\n",
            "5/5 [==============================] - 0s 8ms/step - loss: 0.0768 - accuracy: 0.9875\n",
            "Epoch 11/50\n",
            "5/5 [==============================] - 0s 8ms/step - loss: 0.0679 - accuracy: 0.9875\n",
            "Epoch 12/50\n",
            "5/5 [==============================] - 0s 7ms/step - loss: 0.0611 - accuracy: 0.9875\n",
            "Epoch 13/50\n",
            "5/5 [==============================] - 0s 7ms/step - loss: 0.0557 - accuracy: 0.9875\n",
            "Epoch 14/50\n",
            "5/5 [==============================] - 0s 8ms/step - loss: 0.0513 - accuracy: 0.9875\n",
            "Epoch 15/50\n",
            "5/5 [==============================] - 0s 11ms/step - loss: 0.0472 - accuracy: 0.9875\n",
            "Epoch 16/50\n",
            "5/5 [==============================] - 0s 8ms/step - loss: 0.0438 - accuracy: 0.9937\n",
            "Epoch 17/50\n",
            "5/5 [==============================] - 0s 8ms/step - loss: 0.0408 - accuracy: 0.9937\n",
            "Epoch 18/50\n",
            "5/5 [==============================] - 0s 8ms/step - loss: 0.0383 - accuracy: 0.9937\n",
            "Epoch 19/50\n",
            "5/5 [==============================] - 0s 8ms/step - loss: 0.0363 - accuracy: 0.9937\n",
            "Epoch 20/50\n",
            "5/5 [==============================] - 0s 16ms/step - loss: 0.0343 - accuracy: 0.9937\n",
            "Epoch 21/50\n",
            "5/5 [==============================] - 0s 10ms/step - loss: 0.0325 - accuracy: 0.9937\n",
            "Epoch 22/50\n",
            "5/5 [==============================] - 0s 24ms/step - loss: 0.0310 - accuracy: 0.9937\n",
            "Epoch 23/50\n",
            "5/5 [==============================] - 0s 7ms/step - loss: 0.0296 - accuracy: 0.9937\n",
            "Epoch 24/50\n",
            "5/5 [==============================] - 0s 6ms/step - loss: 0.0284 - accuracy: 0.9937\n",
            "Epoch 25/50\n",
            "5/5 [==============================] - 0s 7ms/step - loss: 0.0272 - accuracy: 0.9937\n",
            "Epoch 26/50\n",
            "5/5 [==============================] - 0s 11ms/step - loss: 0.0261 - accuracy: 0.9937\n",
            "Epoch 27/50\n",
            "5/5 [==============================] - 0s 10ms/step - loss: 0.0252 - accuracy: 0.9937\n",
            "Epoch 28/50\n",
            "5/5 [==============================] - 0s 8ms/step - loss: 0.0243 - accuracy: 0.9937\n",
            "Epoch 29/50\n",
            "5/5 [==============================] - 0s 7ms/step - loss: 0.0236 - accuracy: 0.9937\n",
            "Epoch 30/50\n",
            "5/5 [==============================] - 0s 7ms/step - loss: 0.0228 - accuracy: 0.9937\n",
            "Epoch 31/50\n",
            "5/5 [==============================] - 0s 9ms/step - loss: 0.0221 - accuracy: 0.9937\n",
            "Epoch 32/50\n",
            "5/5 [==============================] - 0s 7ms/step - loss: 0.0215 - accuracy: 0.9937\n",
            "Epoch 33/50\n",
            "5/5 [==============================] - 0s 9ms/step - loss: 0.0208 - accuracy: 0.9937\n",
            "Epoch 34/50\n",
            "5/5 [==============================] - 0s 7ms/step - loss: 0.0202 - accuracy: 0.9937\n",
            "Epoch 35/50\n",
            "5/5 [==============================] - 0s 13ms/step - loss: 0.0196 - accuracy: 0.9937\n",
            "Epoch 36/50\n",
            "5/5 [==============================] - 0s 13ms/step - loss: 0.0191 - accuracy: 0.9937\n",
            "Epoch 37/50\n",
            "5/5 [==============================] - 0s 11ms/step - loss: 0.0187 - accuracy: 0.9937\n",
            "Epoch 38/50\n",
            "5/5 [==============================] - 0s 8ms/step - loss: 0.0182 - accuracy: 0.9937\n",
            "Epoch 39/50\n",
            "5/5 [==============================] - 0s 12ms/step - loss: 0.0178 - accuracy: 0.9937\n",
            "Epoch 40/50\n",
            "5/5 [==============================] - 0s 12ms/step - loss: 0.0173 - accuracy: 0.9937\n",
            "Epoch 41/50\n",
            "5/5 [==============================] - 0s 9ms/step - loss: 0.0169 - accuracy: 0.9937\n",
            "Epoch 42/50\n",
            "5/5 [==============================] - 0s 9ms/step - loss: 0.0166 - accuracy: 0.9937\n",
            "Epoch 43/50\n",
            "5/5 [==============================] - 0s 7ms/step - loss: 0.0162 - accuracy: 0.9937\n",
            "Epoch 44/50\n",
            "5/5 [==============================] - 0s 8ms/step - loss: 0.0158 - accuracy: 0.9937\n",
            "Epoch 45/50\n",
            "5/5 [==============================] - 0s 11ms/step - loss: 0.0155 - accuracy: 0.9937\n",
            "Epoch 46/50\n",
            "5/5 [==============================] - 0s 7ms/step - loss: 0.0151 - accuracy: 0.9937\n",
            "Epoch 47/50\n",
            "5/5 [==============================] - 0s 9ms/step - loss: 0.0147 - accuracy: 0.9937\n",
            "Epoch 48/50\n",
            "5/5 [==============================] - 0s 7ms/step - loss: 0.0145 - accuracy: 0.9937\n",
            "Epoch 49/50\n",
            "5/5 [==============================] - 0s 10ms/step - loss: 0.0141 - accuracy: 0.9937\n",
            "Epoch 50/50\n",
            "5/5 [==============================] - 0s 8ms/step - loss: 0.0139 - accuracy: 0.9937\n"
          ]
        },
        {
          "output_type": "execute_result",
          "data": {
            "text/plain": [
              "<keras.callbacks.History at 0x7f4dd50d0ee0>"
            ]
          },
          "metadata": {},
          "execution_count": 38
        }
      ]
    },
    {
      "cell_type": "markdown",
      "source": [
        "# Predict Values"
      ],
      "metadata": {
        "id": "QZ6RkIlINeqb"
      }
    },
    {
      "cell_type": "code",
      "source": [
        "pred = model.predict(scaler.transform([[0,0,0,0,0,0]]))\n",
        "pred = [int(round(t)) for t in pred.reshape(1, -1)[0]]\n",
        "if pred[0] == 1:\n",
        "  print(\"FAKE!\")\n",
        "else:\n",
        "  print(\"Real :)\")"
      ],
      "metadata": {
        "colab": {
          "base_uri": "https://localhost:8080/"
        },
        "id": "vtBkMPfgbVIE",
        "outputId": "2199256f-6988-422c-b89e-f3c754d8bade"
      },
      "execution_count": 43,
      "outputs": [
        {
          "output_type": "stream",
          "name": "stdout",
          "text": [
            "1/1 [==============================] - 0s 51ms/step\n",
            "FAKE!\n"
          ]
        },
        {
          "output_type": "stream",
          "name": "stderr",
          "text": [
            "/usr/local/lib/python3.8/dist-packages/sklearn/base.py:450: UserWarning: X does not have valid feature names, but StandardScaler was fitted with feature names\n",
            "  warnings.warn(\n"
          ]
        }
      ]
    },
    {
      "cell_type": "code",
      "source": [
        "pred = model.predict(scaler.transform([[214.8, 131.0, 131.1, 9.0, 9.7, 141.0]]))\n",
        "pred = [int(round(t)) for t in pred.reshape(1, -1)[0]]\n",
        "pred[0]\n",
        "if pred[0] == 1:\n",
        "  print(\"FAKE!\")\n",
        "else:\n",
        "  print(\"Real :)\")"
      ],
      "metadata": {
        "colab": {
          "base_uri": "https://localhost:8080/"
        },
        "id": "lf_ELlMFNibf",
        "outputId": "bfbad681-915a-419b-b736-bef7ffc191ca"
      },
      "execution_count": 44,
      "outputs": [
        {
          "output_type": "stream",
          "name": "stdout",
          "text": [
            "1/1 [==============================] - 0s 28ms/step\n",
            "Real :)\n"
          ]
        },
        {
          "output_type": "stream",
          "name": "stderr",
          "text": [
            "/usr/local/lib/python3.8/dist-packages/sklearn/base.py:450: UserWarning: X does not have valid feature names, but StandardScaler was fitted with feature names\n",
            "  warnings.warn(\n"
          ]
        }
      ]
    },
    {
      "cell_type": "markdown",
      "source": [
        "# Convert Model to a Downloadable"
      ],
      "metadata": {
        "id": "dr5bVDsi1cIA"
      }
    },
    {
      "cell_type": "code",
      "source": [
        "model.save('/content/model.h5')\n",
        "\n",
        "converter = tf.lite.TFLiteConverter.from_keras_model(model)\n",
        "tflite_model = converter.convert()\n",
        "\n",
        "with open('model.tflite', 'wb') as f:\n",
        "  f.write(tflite_model)"
      ],
      "metadata": {
        "colab": {
          "base_uri": "https://localhost:8080/"
        },
        "id": "Q7DXG6J_1bNe",
        "outputId": "73528700-a596-4122-c514-2c7df1ef5ddd"
      },
      "execution_count": 41,
      "outputs": [
        {
          "output_type": "stream",
          "name": "stderr",
          "text": [
            "WARNING:absl:Found untraced functions such as _update_step_xla while saving (showing 1 of 1). These functions will not be directly callable after loading.\n"
          ]
        }
      ]
    }
  ]
}